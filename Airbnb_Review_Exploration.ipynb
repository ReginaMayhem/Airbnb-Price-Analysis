{
 "cells": [
  {
   "cell_type": "markdown",
   "metadata": {},
   "source": [
    "## Adam's Part"
   ]
  },
  {
   "cell_type": "code",
   "execution_count": null,
   "metadata": {},
   "outputs": [],
   "source": [
    "import numpy as np\n",
    "import pandas as pd\n",
    "import matplotlib.pyplot as plt\n",
    "%matplotlib inline\n",
    "\n",
    "#read in the data from the CSV file\n",
    "#did not use ID as index because it will be easier to model (train/test data) this way \n",
    "df = pd.read_csv('train.csv', index_col = None)\n",
    "\n",
    "#given that we would like to predict the review of each listing, we remove listings that have not been rated\n",
    "df = df.dropna(subset=['review_scores_rating'])\n"
   ]
  },
  {
   "cell_type": "code",
   "execution_count": null,
   "metadata": {},
   "outputs": [],
   "source": [
    "import math\n",
    "\n",
    "#from the standpoint of agility, let us create a rough model, relating price of a suite to the number of bedrooms and bathrooms\n",
    "#also tried it with some consideratin for the average review\n",
    "#while no clear model arises from this attempt, it does appear that this model creates a lower bound\n",
    "plt.scatter(df.bathrooms+df.bedrooms+0.2*df.review_scores_rating, df.log_price)"
   ]
  },
  {
   "cell_type": "code",
   "execution_count": null,
   "metadata": {},
   "outputs": [],
   "source": [
    "#the next step is to convert many of our categorical data columns into numbers\n",
    "#start with bed_type, where we can use: Real Bed = 4, Pull-out Sofa or Futon = 3, Couch = 2, Airbed = 1, in order of luxury\n",
    "bed_data = [['Real Bed',4],['Pull-out Sofa',3],['Futon',3],['Couch',2],['Airbed',1]]\n",
    "df_bed_data = pd.DataFrame(bed_data,columns=['bed_type','bed_val'])\n",
    "df = df.join(df_bed_data.set_index('bed_type'),on = 'bed_type')\n",
    "df = df.drop('bed_type', axis = 1)\n"
   ]
  },
  {
   "cell_type": "code",
   "execution_count": null,
   "metadata": {},
   "outputs": [],
   "source": [
    "#continue with cancellation_policy, where we can use: super_strict_60 = 5, super_strict_30 = 4, strict = 3, \n",
    "# moderate = 2, flexible = 1, in order of severity\n",
    "cancel_data = [['super_strict_60',5],['super_strict_30',4],['strict',3],['moderate',2],['flexible',1]]\n",
    "df_cancel_type = pd.DataFrame(cancel_data,columns=['cancellation_policy','cancellation_val'])\n",
    "df = df.join(df_cancel_type.set_index('cancellation_policy'),on = 'cancellation_policy')\n",
    "df = df.drop('cancellation_policy', axis = 1)"
   ]
  },
  {
   "cell_type": "code",
   "execution_count": null,
   "metadata": {},
   "outputs": [],
   "source": [
    "#continue with cleaning_fee, where we can use: True = 1 and False = 0\n",
    "df['cleaning_fee']= np.where(df['cleaning_fee']== True,1,0)"
   ]
  },
  {
   "cell_type": "code",
   "execution_count": null,
   "metadata": {},
   "outputs": [],
   "source": [
    "#the date of last review and the thumbnail_url will not be used in the price modeling so we drop these columns here\n",
    "df = df.drop(['thumbnail_url'], axis = 1)\n",
    "print(len(df.columns))"
   ]
  },
  {
   "cell_type": "code",
   "execution_count": null,
   "metadata": {},
   "outputs": [],
   "source": [
    "#continue with room_type, where we can use: Entire home/apt = 3, Private room = 2, and Shared room = 1\n",
    "roomtype_data = [['Entire home/apt',3],['Private room',2],['Shared room',1]]\n",
    "df_roomtype = pd.DataFrame(roomtype_data,columns=['room_type','roomtype_val'])\n",
    "df = df.join(df_roomtype.set_index('room_type'),on = 'room_type')\n",
    "df = df.drop('room_type', axis = 1)\n",
    "df.head()"
   ]
  },
  {
   "cell_type": "code",
   "execution_count": null,
   "metadata": {},
   "outputs": [],
   "source": [
    "#continue with city, where we can create a separate column for each of: Boston, Chicago, DC, LA, NYC, SF\n",
    "\n",
    "df['Boston'] = (df['city'] == \"Boston\").astype(int)\n",
    "df['Chicago'] = (df['city'] == \"Chicago\").astype(int)\n",
    "df['DC'] = (df['city'] == \"DC\").astype(int)\n",
    "df['LA'] = (df['city'] == \"LA\").astype(int)\n",
    "df['NYC'] = (df['city'] == \"NYC\").astype(int)\n",
    "df['SF'] = (df['city'] == \"SF\").astype(int)\n",
    "df = df.drop('city', axis = 1)\n",
    "df.head()"
   ]
  },
  {
   "cell_type": "code",
   "execution_count": null,
   "metadata": {},
   "outputs": [],
   "source": [
    "#continue with host_has_profile_pic, Host_identity_verified, and instant_bookable, where we can use: t = 1 and f = 0\n",
    "df['host_has_profile_pic']= np.where(df['host_has_profile_pic']== 't',1,0)\n",
    "df['host_identity_verified']= np.where(df['host_identity_verified']== 't',1,0)\n",
    "df['instant_bookable']= np.where(df['instant_bookable']== 't',1,0)\n",
    "df.head()"
   ]
  },
  {
   "cell_type": "code",
   "execution_count": null,
   "metadata": {},
   "outputs": [],
   "source": [
    "#continue with host_response_rate, Host_identity_verified, and instant_bookable, where we can use: t = 1 and f = 0\n",
    "#remove the '%' sign at the end of each entry\n",
    "df['host_response_rate']= df['host_response_rate'].str.strip('%')\n",
    "df.head()"
   ]
  },
  {
   "cell_type": "code",
   "execution_count": null,
   "metadata": {},
   "outputs": [],
   "source": [
    "import datetime\n",
    "\n",
    "#convert dates into 'datetime format'\n",
    "df['first_review'] = pd.to_datetime(df['first_review'])\n",
    "df['last_review'] = pd.to_datetime(df['last_review'])\n",
    "\n",
    "#create a new variable to determine the frequency of listing reviews\n",
    "#subtract the time between the first and last review and then divide by the number of reviews to get # of days between reviews\n",
    "df['freq_review'] = df['last_review'].sub(df['first_review'], axis=0)\n",
    "df['freq_review'] /= np.timedelta64(1, 'D')\n",
    "df['freq_review'] /= df['number_of_reviews']\n",
    "df.head()"
   ]
  },
  {
   "cell_type": "code",
   "execution_count": null,
   "metadata": {},
   "outputs": [],
   "source": [
    "#the strategy here is to convert the date the user started hosting to number of days hosting (host experience)\n",
    "#use January 1, 2018 as a reference date since all data is 2017 or earlier\n",
    "date_ref = pd.to_datetime('2018-01-01')\n",
    "\n",
    "#convert 'host_since' column to date_time\n",
    "df['host_since'] = pd.to_datetime(df['host_since'])\n",
    "\n",
    "#subtract 'host_since' from reference date\n",
    "df['host_since'] = date_ref - df['host_since']\n",
    "df['host_since'] /= np.timedelta64(1, 'D')\n",
    "df.head()"
   ]
  },
  {
   "cell_type": "code",
   "execution_count": null,
   "metadata": {},
   "outputs": [],
   "source": [
    "df.columns"
   ]
  },
  {
   "cell_type": "markdown",
   "metadata": {},
   "source": [
    "## Sree's Parts"
   ]
  },
  {
   "cell_type": "code",
   "execution_count": null,
   "metadata": {},
   "outputs": [],
   "source": [
    "# resets index since we dropped rows and I need to use loops referencing the indices\n",
    "df = df.reset_index().drop(columns = ['index'])"
   ]
  },
  {
   "cell_type": "code",
   "execution_count": null,
   "metadata": {},
   "outputs": [],
   "source": [
    "# cleaning amenities list to remove '{','}'\n",
    "# standardizing to single quotes\n",
    "# creating a list of all amenities\n",
    "all_amenities = [df['amenities'][i].replace(\"{\",\"\").replace(\"}\",\"\").replace('\"', '').split(\",\") for i in range(len(df['amenities']))]"
   ]
  },
  {
   "cell_type": "code",
   "execution_count": null,
   "metadata": {},
   "outputs": [],
   "source": [
    "# identifying unique amenities across all rows of the dataframe\n",
    "unique_amenities = pd.unique([val for sublist in all_amenities for val in sublist]).tolist()\n",
    "unique_amenities.remove('')"
   ]
  },
  {
   "cell_type": "code",
   "execution_count": null,
   "metadata": {},
   "outputs": [],
   "source": [
    "# creating combined dataframe to include each of the unique amenities as the columns\n",
    "df = pd.concat([df,pd.DataFrame(columns = unique_amenities)], sort=False)\n",
    "df[unique_amenities] = 0"
   ]
  },
  {
   "cell_type": "markdown",
   "metadata": {},
   "source": [
    "### This function does one hot encoding for amenities for each property (row in the dataframe)."
   ]
  },
  {
   "cell_type": "code",
   "execution_count": null,
   "metadata": {},
   "outputs": [],
   "source": [
    "# function obtains list of amenities for each row\n",
    "# function looks for individual amenity name in dataframe columns\n",
    "# function assigns 1 to that amenity column for that row if amenity is present in list of amenities for that rowa\n",
    "def apply_amenities(df_row):\n",
    "    clean_list = df_row['amenities'].replace(\"{\",\"\").replace(\"}\",\"\").replace('\"', '').split(',')\n",
    "    for i in range(len(clean_list)):\n",
    "        df_row[clean_list[i]] = 1\n",
    "    return df_row"
   ]
  },
  {
   "cell_type": "code",
   "execution_count": null,
   "metadata": {},
   "outputs": [],
   "source": [
    "#apply function onto dataframe\n",
    "df = df.apply(apply_amenities, axis = 1).drop(columns=[''], axis = 1)"
   ]
  },
  {
   "cell_type": "code",
   "execution_count": null,
   "metadata": {},
   "outputs": [],
   "source": [
    "df"
   ]
  },
  {
   "cell_type": "code",
   "execution_count": null,
   "metadata": {},
   "outputs": [],
   "source": []
  }
 ],
 "metadata": {
  "kernelspec": {
   "display_name": "Python 3",
   "language": "python",
   "name": "python3"
  },
  "language_info": {
   "codemirror_mode": {
    "name": "ipython",
    "version": 3
   },
   "file_extension": ".py",
   "mimetype": "text/x-python",
   "name": "python",
   "nbconvert_exporter": "python",
   "pygments_lexer": "ipython3",
   "version": "3.6.5"
  }
 },
 "nbformat": 4,
 "nbformat_minor": 2
}
